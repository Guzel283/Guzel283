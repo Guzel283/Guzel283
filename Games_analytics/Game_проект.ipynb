{
 "cells": [
  {
   "cell_type": "markdown",
   "metadata": {},
   "source": [
    "Проект: вариант 1\n",
    "\n",
    " Представьте, что вы работаете в компании, которая разрабатывает мобильные игры. К вам пришел менеджер с рядом задач по исследованию нескольких аспектов мобильного приложения:\n",
    "\n",
    "1. В первую очередь, его интересует показатель retention. Напишите функцию для его подсчета.\n",
    "2. Помимо этого, в компании провели A/B тестирование наборов акционных предложений. На основе имеющихся данных определите, какой набор можно считать лучшим и на основе каких метрик стоит принять правильное решение.\n",
    "3. Предложите метрики для оценки результатов последнего прошедшего тематического события в игре."
   ]
  },
  {
   "cell_type": "code",
   "execution_count": 1,
   "metadata": {},
   "outputs": [],
   "source": [
    "import pandas as pd\n",
    "import numpy as np\n",
    "import matplotlib.pyplot as plt\n",
    "import seaborn as sns\n",
    "from scipy import stats\n",
    "%matplotlib inline\n",
    "from datetime import datetime\n",
    "from datetime import timedelta\n",
    "import time\n",
    "\n",
    "import requests\n",
    "from urllib.parse import urlencode\n",
    "import json\n",
    "from scipy.stats import levene\n",
    "import pingouin as pg\n",
    "from tqdm.auto import tqdm\n",
    "from scipy.stats import norm\n",
    "import warnings\n",
    "warnings.filterwarnings(\"ignore\")"
   ]
  },
  {
   "cell_type": "markdown",
   "metadata": {},
   "source": [
    "## Задание 1\n",
    "### Retention – один из самых важных показателей в компании. Ваша задача – написать функцию, которая будет считать retention игроков (по дням от даты регистрации игрока)."
   ]
  },
  {
   "cell_type": "code",
   "execution_count": 2,
   "metadata": {},
   "outputs": [],
   "source": [
    "# считаем данные\n",
    "# reg - данные о времени регистрации\n",
    "reg = pd.read_csv('../shared/problem1-reg_data.csv', sep = ';')\n",
    "# auth - данные о времени захода пользователей в игру\n",
    "auth = pd.read_csv('../shared/problem1-auth_data.csv', sep = ';')"
   ]
  },
  {
   "cell_type": "markdown",
   "metadata": {},
   "source": [
    "**Для создания функции, рассчитывающей Retention нам потребуется id пользователей, дата регистрации, захода в игру, когортный период (у игр обычно рассчитывается на 1,7, 28 день, поэтому в качестве когортного периода возьмем месяц)**"
   ]
  },
  {
   "cell_type": "markdown",
   "metadata": {},
   "source": [
    "Для начала проведем EDA-анализ"
   ]
  },
  {
   "cell_type": "code",
   "execution_count": 3,
   "metadata": {},
   "outputs": [
    {
     "data": {
      "text/html": [
       "<div>\n",
       "<style scoped>\n",
       "    .dataframe tbody tr th:only-of-type {\n",
       "        vertical-align: middle;\n",
       "    }\n",
       "\n",
       "    .dataframe tbody tr th {\n",
       "        vertical-align: top;\n",
       "    }\n",
       "\n",
       "    .dataframe thead th {\n",
       "        text-align: right;\n",
       "    }\n",
       "</style>\n",
       "<table border=\"1\" class=\"dataframe\">\n",
       "  <thead>\n",
       "    <tr style=\"text-align: right;\">\n",
       "      <th></th>\n",
       "      <th>reg_ts</th>\n",
       "      <th>uid</th>\n",
       "    </tr>\n",
       "  </thead>\n",
       "  <tbody>\n",
       "    <tr>\n",
       "      <th>0</th>\n",
       "      <td>911382223</td>\n",
       "      <td>1</td>\n",
       "    </tr>\n",
       "    <tr>\n",
       "      <th>1</th>\n",
       "      <td>932683089</td>\n",
       "      <td>2</td>\n",
       "    </tr>\n",
       "    <tr>\n",
       "      <th>2</th>\n",
       "      <td>947802447</td>\n",
       "      <td>3</td>\n",
       "    </tr>\n",
       "    <tr>\n",
       "      <th>3</th>\n",
       "      <td>959523541</td>\n",
       "      <td>4</td>\n",
       "    </tr>\n",
       "    <tr>\n",
       "      <th>4</th>\n",
       "      <td>969103313</td>\n",
       "      <td>5</td>\n",
       "    </tr>\n",
       "  </tbody>\n",
       "</table>\n",
       "</div>"
      ],
      "text/plain": [
       "      reg_ts  uid\n",
       "0  911382223    1\n",
       "1  932683089    2\n",
       "2  947802447    3\n",
       "3  959523541    4\n",
       "4  969103313    5"
      ]
     },
     "execution_count": 3,
     "metadata": {},
     "output_type": "execute_result"
    }
   ],
   "source": [
    "reg.head()"
   ]
  },
  {
   "cell_type": "code",
   "execution_count": 4,
   "metadata": {},
   "outputs": [
    {
     "data": {
      "text/html": [
       "<div>\n",
       "<style scoped>\n",
       "    .dataframe tbody tr th:only-of-type {\n",
       "        vertical-align: middle;\n",
       "    }\n",
       "\n",
       "    .dataframe tbody tr th {\n",
       "        vertical-align: top;\n",
       "    }\n",
       "\n",
       "    .dataframe thead th {\n",
       "        text-align: right;\n",
       "    }\n",
       "</style>\n",
       "<table border=\"1\" class=\"dataframe\">\n",
       "  <thead>\n",
       "    <tr style=\"text-align: right;\">\n",
       "      <th></th>\n",
       "      <th>auth_ts</th>\n",
       "      <th>uid</th>\n",
       "    </tr>\n",
       "  </thead>\n",
       "  <tbody>\n",
       "    <tr>\n",
       "      <th>0</th>\n",
       "      <td>911382223</td>\n",
       "      <td>1</td>\n",
       "    </tr>\n",
       "    <tr>\n",
       "      <th>1</th>\n",
       "      <td>932683089</td>\n",
       "      <td>2</td>\n",
       "    </tr>\n",
       "    <tr>\n",
       "      <th>2</th>\n",
       "      <td>932921206</td>\n",
       "      <td>2</td>\n",
       "    </tr>\n",
       "    <tr>\n",
       "      <th>3</th>\n",
       "      <td>933393015</td>\n",
       "      <td>2</td>\n",
       "    </tr>\n",
       "    <tr>\n",
       "      <th>4</th>\n",
       "      <td>933875379</td>\n",
       "      <td>2</td>\n",
       "    </tr>\n",
       "  </tbody>\n",
       "</table>\n",
       "</div>"
      ],
      "text/plain": [
       "     auth_ts  uid\n",
       "0  911382223    1\n",
       "1  932683089    2\n",
       "2  932921206    2\n",
       "3  933393015    2\n",
       "4  933875379    2"
      ]
     },
     "execution_count": 4,
     "metadata": {},
     "output_type": "execute_result"
    }
   ],
   "source": [
    "auth.head()"
   ]
  },
  {
   "cell_type": "code",
   "execution_count": 5,
   "metadata": {},
   "outputs": [
    {
     "data": {
      "text/plain": [
       "(1000000, 2)"
      ]
     },
     "execution_count": 5,
     "metadata": {},
     "output_type": "execute_result"
    }
   ],
   "source": [
    "reg.shape"
   ]
  },
  {
   "cell_type": "code",
   "execution_count": 6,
   "metadata": {},
   "outputs": [
    {
     "data": {
      "text/plain": [
       "(9601013, 2)"
      ]
     },
     "execution_count": 6,
     "metadata": {},
     "output_type": "execute_result"
    }
   ],
   "source": [
    "auth.shape"
   ]
  },
  {
   "cell_type": "code",
   "execution_count": 7,
   "metadata": {},
   "outputs": [
    {
     "data": {
      "text/plain": [
       "1000000"
      ]
     },
     "execution_count": 7,
     "metadata": {},
     "output_type": "execute_result"
    }
   ],
   "source": [
    "reg.reg_ts.nunique()"
   ]
  },
  {
   "cell_type": "code",
   "execution_count": 8,
   "metadata": {},
   "outputs": [
    {
     "name": "stdout",
     "output_type": "stream",
     "text": [
      "<class 'pandas.core.frame.DataFrame'>\n",
      "RangeIndex: 1000000 entries, 0 to 999999\n",
      "Data columns (total 2 columns):\n",
      " #   Column  Non-Null Count    Dtype\n",
      "---  ------  --------------    -----\n",
      " 0   reg_ts  1000000 non-null  int64\n",
      " 1   uid     1000000 non-null  int64\n",
      "dtypes: int64(2)\n",
      "memory usage: 15.3 MB\n"
     ]
    }
   ],
   "source": [
    "# проверим типы значений и наличие пропущенных значений\n",
    "reg.info()"
   ]
  },
  {
   "cell_type": "code",
   "execution_count": 9,
   "metadata": {},
   "outputs": [
    {
     "name": "stdout",
     "output_type": "stream",
     "text": [
      "<class 'pandas.core.frame.DataFrame'>\n",
      "RangeIndex: 9601013 entries, 0 to 9601012\n",
      "Data columns (total 2 columns):\n",
      " #   Column   Dtype\n",
      "---  ------   -----\n",
      " 0   auth_ts  int64\n",
      " 1   uid      int64\n",
      "dtypes: int64(2)\n",
      "memory usage: 146.5 MB\n"
     ]
    }
   ],
   "source": [
    "auth.info()"
   ]
  },
  {
   "cell_type": "code",
   "execution_count": 10,
   "metadata": {},
   "outputs": [],
   "source": [
    "# переведем столбцы timestamp формата в формат даты\n",
    "reg['reg_ts'] = reg['reg_ts'].apply(datetime.fromtimestamp)\n",
    "auth['auth_ts'] = auth['auth_ts'].apply(datetime.fromtimestamp)"
   ]
  },
  {
   "cell_type": "code",
   "execution_count": null,
   "metadata": {},
   "outputs": [],
   "source": []
  },
  {
   "cell_type": "code",
   "execution_count": 11,
   "metadata": {},
   "outputs": [
    {
     "name": "stdout",
     "output_type": "stream",
     "text": [
      "<class 'pandas.core.frame.DataFrame'>\n",
      "RangeIndex: 1000000 entries, 0 to 999999\n",
      "Data columns (total 2 columns):\n",
      " #   Column  Non-Null Count    Dtype         \n",
      "---  ------  --------------    -----         \n",
      " 0   reg_ts  1000000 non-null  datetime64[ns]\n",
      " 1   uid     1000000 non-null  int64         \n",
      "dtypes: datetime64[ns](1), int64(1)\n",
      "memory usage: 15.3 MB\n"
     ]
    }
   ],
   "source": [
    "reg.info()"
   ]
  },
  {
   "cell_type": "code",
   "execution_count": 12,
   "metadata": {},
   "outputs": [
    {
     "data": {
      "text/html": [
       "<div>\n",
       "<style scoped>\n",
       "    .dataframe tbody tr th:only-of-type {\n",
       "        vertical-align: middle;\n",
       "    }\n",
       "\n",
       "    .dataframe tbody tr th {\n",
       "        vertical-align: top;\n",
       "    }\n",
       "\n",
       "    .dataframe thead th {\n",
       "        text-align: right;\n",
       "    }\n",
       "</style>\n",
       "<table border=\"1\" class=\"dataframe\">\n",
       "  <thead>\n",
       "    <tr style=\"text-align: right;\">\n",
       "      <th></th>\n",
       "      <th>reg_ts</th>\n",
       "      <th>uid</th>\n",
       "    </tr>\n",
       "  </thead>\n",
       "  <tbody>\n",
       "    <tr>\n",
       "      <th>0</th>\n",
       "      <td>1998-11-18 12:43:43</td>\n",
       "      <td>1</td>\n",
       "    </tr>\n",
       "    <tr>\n",
       "      <th>1</th>\n",
       "      <td>1999-07-23 02:38:09</td>\n",
       "      <td>2</td>\n",
       "    </tr>\n",
       "    <tr>\n",
       "      <th>2</th>\n",
       "      <td>2000-01-14 01:27:27</td>\n",
       "      <td>3</td>\n",
       "    </tr>\n",
       "    <tr>\n",
       "      <th>3</th>\n",
       "      <td>2000-05-28 18:19:01</td>\n",
       "      <td>4</td>\n",
       "    </tr>\n",
       "    <tr>\n",
       "      <th>4</th>\n",
       "      <td>2000-09-16 15:21:53</td>\n",
       "      <td>5</td>\n",
       "    </tr>\n",
       "  </tbody>\n",
       "</table>\n",
       "</div>"
      ],
      "text/plain": [
       "               reg_ts  uid\n",
       "0 1998-11-18 12:43:43    1\n",
       "1 1999-07-23 02:38:09    2\n",
       "2 2000-01-14 01:27:27    3\n",
       "3 2000-05-28 18:19:01    4\n",
       "4 2000-09-16 15:21:53    5"
      ]
     },
     "execution_count": 12,
     "metadata": {},
     "output_type": "execute_result"
    }
   ],
   "source": [
    "reg.head()"
   ]
  },
  {
   "cell_type": "code",
   "execution_count": 13,
   "metadata": {},
   "outputs": [
    {
     "data": {
      "text/plain": [
       "reg_ts\n",
       "1998         1\n",
       "1999         1\n",
       "2000         4\n",
       "2001         6\n",
       "2002        10\n",
       "2003        20\n",
       "2004        35\n",
       "2005        65\n",
       "2006       119\n",
       "2007       216\n",
       "2008       394\n",
       "2009       718\n",
       "2010      1308\n",
       "2011      2383\n",
       "2012      4360\n",
       "2013      7931\n",
       "2014     14452\n",
       "2015     26339\n",
       "2016     48178\n",
       "2017     87626\n",
       "2018    159697\n",
       "2019    291041\n",
       "2020    355096\n",
       "Name: reg_ts, dtype: int64"
      ]
     },
     "execution_count": 13,
     "metadata": {},
     "output_type": "execute_result"
    }
   ],
   "source": [
    "# посмотрим на ежегодное кол-во регистраций\n",
    "reg.groupby(reg.reg_ts.dt.year).reg_ts.count()"
   ]
  },
  {
   "cell_type": "code",
   "execution_count": null,
   "metadata": {},
   "outputs": [],
   "source": []
  },
  {
   "cell_type": "code",
   "execution_count": 14,
   "metadata": {},
   "outputs": [
    {
     "data": {
      "text/html": [
       "<div>\n",
       "<style scoped>\n",
       "    .dataframe tbody tr th:only-of-type {\n",
       "        vertical-align: middle;\n",
       "    }\n",
       "\n",
       "    .dataframe tbody tr th {\n",
       "        vertical-align: top;\n",
       "    }\n",
       "\n",
       "    .dataframe thead th {\n",
       "        text-align: right;\n",
       "    }\n",
       "</style>\n",
       "<table border=\"1\" class=\"dataframe\">\n",
       "  <thead>\n",
       "    <tr style=\"text-align: right;\">\n",
       "      <th></th>\n",
       "      <th>reg_ts</th>\n",
       "      <th>uid</th>\n",
       "    </tr>\n",
       "  </thead>\n",
       "  <tbody>\n",
       "    <tr>\n",
       "      <th>353863</th>\n",
       "      <td>2019-01-01 00:02:25</td>\n",
       "      <td>392991</td>\n",
       "    </tr>\n",
       "    <tr>\n",
       "      <th>353864</th>\n",
       "      <td>2019-01-01 00:04:53</td>\n",
       "      <td>392992</td>\n",
       "    </tr>\n",
       "    <tr>\n",
       "      <th>353865</th>\n",
       "      <td>2019-01-01 00:07:22</td>\n",
       "      <td>392993</td>\n",
       "    </tr>\n",
       "    <tr>\n",
       "      <th>353866</th>\n",
       "      <td>2019-01-01 00:09:50</td>\n",
       "      <td>392994</td>\n",
       "    </tr>\n",
       "    <tr>\n",
       "      <th>353867</th>\n",
       "      <td>2019-01-01 00:12:19</td>\n",
       "      <td>392995</td>\n",
       "    </tr>\n",
       "    <tr>\n",
       "      <th>...</th>\n",
       "      <td>...</td>\n",
       "      <td>...</td>\n",
       "    </tr>\n",
       "    <tr>\n",
       "      <th>643839</th>\n",
       "      <td>2019-12-30 23:53:24</td>\n",
       "      <td>715004</td>\n",
       "    </tr>\n",
       "    <tr>\n",
       "      <th>643840</th>\n",
       "      <td>2019-12-30 23:54:46</td>\n",
       "      <td>715005</td>\n",
       "    </tr>\n",
       "    <tr>\n",
       "      <th>643841</th>\n",
       "      <td>2019-12-30 23:56:07</td>\n",
       "      <td>715006</td>\n",
       "    </tr>\n",
       "    <tr>\n",
       "      <th>643842</th>\n",
       "      <td>2019-12-30 23:57:29</td>\n",
       "      <td>715007</td>\n",
       "    </tr>\n",
       "    <tr>\n",
       "      <th>643843</th>\n",
       "      <td>2019-12-30 23:58:50</td>\n",
       "      <td>715008</td>\n",
       "    </tr>\n",
       "  </tbody>\n",
       "</table>\n",
       "<p>289981 rows × 2 columns</p>\n",
       "</div>"
      ],
      "text/plain": [
       "                    reg_ts     uid\n",
       "353863 2019-01-01 00:02:25  392991\n",
       "353864 2019-01-01 00:04:53  392992\n",
       "353865 2019-01-01 00:07:22  392993\n",
       "353866 2019-01-01 00:09:50  392994\n",
       "353867 2019-01-01 00:12:19  392995\n",
       "...                    ...     ...\n",
       "643839 2019-12-30 23:53:24  715004\n",
       "643840 2019-12-30 23:54:46  715005\n",
       "643841 2019-12-30 23:56:07  715006\n",
       "643842 2019-12-30 23:57:29  715007\n",
       "643843 2019-12-30 23:58:50  715008\n",
       "\n",
       "[289981 rows x 2 columns]"
      ]
     },
     "execution_count": 14,
     "metadata": {},
     "output_type": "execute_result"
    }
   ],
   "source": [
    "reg.query('reg_ts >= \"2019-01-01\" and reg_ts < \"2019-12-31\"')\n",
    "# посмотрели до какого дня 2019 года данные"
   ]
  },
  {
   "cell_type": "code",
   "execution_count": null,
   "metadata": {},
   "outputs": [],
   "source": [
    "# самое большое количество регистраций в 2019 году, поэтому в качестве сэмпла для расчета ретеншн возьмем данные с 2019 года\n",
    "reg2019 = reg.query('reg_ts >= \"2019-01-01\" and reg_ts < \"2019-12-30\"')\n",
    "auth2019 = auth.query('auth_ts >= \"2019-01-01\" and auth_ts < \"2019-12-30\"')"
   ]
  },
  {
   "cell_type": "code",
   "execution_count": null,
   "metadata": {},
   "outputs": [],
   "source": [
    "def retention_rate(reg, auth, uid, date_reg, date_auth, period):\n",
    "    \n",
    "    df = reg.merge(auth, on=uid)  # Соединим данные\n",
    "    \n",
    "    df['cohort'] = df[date_reg].dt.to_period(period)  # Когортами будут являться месяца дат регистрации\n",
    "    \n",
    "    df['retention_day'] = (df[date_auth] - df[date_reg]).dt.days+1  # ретеншн с учетом дня регистрации\n",
    "    \n",
    "    # ежедневное количество уникальных входов после регистрации по каждой когорте\n",
    "    count_cohort = df.pivot_table(index='cohort', columns='retention_day', values='uid', aggfunc='nunique')\n",
    "    \n",
    "    # доли входов каждый день после регистрации\n",
    "    retention = count_cohort.divide(count_cohort.iloc[:,0], axis=0)\n",
    "    \n",
    "    #строим график\n",
    "    plt.figure(figsize=(18,14))\n",
    "    plt.title('Retention')\n",
    "    ax = sns.heatmap(data=retention.iloc[:,0:31], \n",
    "                     annot=True, fmt='.0%', vmin=0.0, vmax=1,\n",
    "                     cmap=['#B0E0E6', '#87CEFA', '#1E90FF', '#4169E1', '#0000FF'])\n",
    "    ax.set_yticklabels(retention.index)\n",
    "    \n",
    "    \n",
    "    return count_cohort.iloc[:,0:31] "
   ]
  },
  {
   "cell_type": "code",
   "execution_count": null,
   "metadata": {},
   "outputs": [],
   "source": [
    "# запускаем функцию\n",
    "retention = retention_rate(\n",
    "                                          reg = reg2019, \n",
    "                                          auth = auth2019, \n",
    "                                          uid = 'uid',\n",
    "                                          date_reg = 'reg_ts',\n",
    "                                          date_auth = 'auth_ts', \n",
    "                                        period = 'M')"
   ]
  },
  {
   "cell_type": "code",
   "execution_count": null,
   "metadata": {},
   "outputs": [],
   "source": []
  },
  {
   "cell_type": "markdown",
   "metadata": {},
   "source": [
    "## Задание 2\n",
    "### Имеются результаты A/B теста, в котором двум группам пользователей предлагались различные наборы акционных предложений. Известно, что ARPU в тестовой группе выше на 5%, чем в контрольной. При этом в контрольной группе 1928 игроков из 202103 оказались платящими, а в тестовой – 1805 из 202667.\n",
    "### Какой набор предложений можно считать лучшим? Какие метрики стоит проанализировать для принятия правильного решения и как?"
   ]
  },
  {
   "cell_type": "code",
   "execution_count": null,
   "metadata": {},
   "outputs": [],
   "source": [
    "# Для начала загрузим все датасеты\n",
    "base_url = 'https://cloud-api.yandex.net/v1/disk/public/resources/download?'\n",
    "public_key = 'https://disk.yandex.ru/d/SOkIsD5A8xlI7Q'  # ссылка на датасет\n",
    "\n",
    "# Получаем загрузочную ссылку\n",
    "final_url = base_url + urlencode(dict(public_key=public_key))\n",
    "response = requests.get(final_url) # запрос ссылки на скачивание\n",
    "download_url = response.json()['href'] #'парсинг' ссылки на скачивание\n",
    "\n",
    "# Загружаем файл и сохраняем его\n",
    "download_response = requests.get(download_url)\n",
    "ab = pd.read_csv(download_url, sep = ';')\n",
    "ab"
   ]
  },
  {
   "cell_type": "code",
   "execution_count": null,
   "metadata": {},
   "outputs": [],
   "source": [
    "ab.info()"
   ]
  },
  {
   "cell_type": "code",
   "execution_count": null,
   "metadata": {},
   "outputs": [],
   "source": [
    "ab.user_id.nunique()\n",
    "# количество пользователей совпадает с кол-вом строк дф ab, следовательно все пользователи уникальные"
   ]
  },
  {
   "cell_type": "code",
   "execution_count": null,
   "metadata": {},
   "outputs": [],
   "source": [
    "# какая из двух групп тестовая?контрольная?выясним через кол-во платящих (которое дано в условии задачи)\n",
    "ab.query(\"revenue>0\").groupby('testgroup', as_index = False) \\\n",
    "          .agg({'revenue': 'sum', 'user_id':'count'}) \\\n",
    "          .rename(columns = {'user_id': 'number_of_users'})\n",
    "# согласно условию в контрольной группе 1928 пользователей, следовательно \"а\" - контрольная группа, \"b\" - тестовая группа"
   ]
  },
  {
   "cell_type": "markdown",
   "metadata": {},
   "source": [
    "***Для проведения тестов выдвинем две гипотезы:***\n",
    "\n",
    "***1.Нулевая, Н0 - после проведения эксперимента значение выручки меньше у контрольной группы, т.е. набор акционных предложений в контрольной группе хуже, чем у тестовой группы;***\n",
    "\n",
    "***2.Альтернативная, Н1 - после проведения эксперимента значение выручки у тестовой группы выше, т.е. набор акционных предложений в тестовой группе лучше, чем у контрольной группы***"
   ]
  },
  {
   "cell_type": "code",
   "execution_count": null,
   "metadata": {},
   "outputs": [],
   "source": [
    "# посмотрим на распределение данных в контрольной группе\n",
    "\n",
    "ab.query('testgroup == \"a\"').revenue.hist()\n",
    "ab.query('testgroup == \"a\"').revenue.describe()\n",
    "# тк очень много пользователей не оплатили, распределение неравномерное. Также получится и в тестовой группе"
   ]
  },
  {
   "cell_type": "code",
   "execution_count": null,
   "metadata": {},
   "outputs": [],
   "source": [
    "# посмотрим на распределение данных в тестовой группе\n",
    "ab.query('testgroup == \"b\"').revenue.hist()\n",
    "ab.query('testgroup == \"b\"').revenue.describe()"
   ]
  },
  {
   "cell_type": "code",
   "execution_count": null,
   "metadata": {},
   "outputs": [],
   "source": [
    "# посмотрим на распределение данных в контрольной группе платящих игроков\n",
    "(ab.query(\"(testgroup == 'a') & revenue > 0\")).revenue.hist()\n",
    "ab.query(\"(testgroup == 'a') & revenue > 0\").revenue.describe()\n",
    "# имеются выбросы"
   ]
  },
  {
   "cell_type": "code",
   "execution_count": null,
   "metadata": {},
   "outputs": [],
   "source": [
    "# посмотрим на распределение данных в контрольной группе платящих игроков\n",
    "(ab.query(\"(testgroup == 'b') & revenue > 0\")).revenue.hist()\n",
    "ab.query(\"(testgroup == 'b') & revenue > 0\").revenue.describe()"
   ]
  },
  {
   "cell_type": "code",
   "execution_count": null,
   "metadata": {},
   "outputs": [],
   "source": [
    "#посмотрим на кол-во выбросов\n",
    "ab.query(\"(testgroup == 'a') & revenue > 35000\")"
   ]
  },
  {
   "cell_type": "markdown",
   "metadata": {},
   "source": [
    "1.Проверим можно ли провести t-тест.Для этого должны соблюдаться следующие требования:\n",
    "\n",
    "    -нормальность распределений\n",
    "    -гомогенность дисперсий"
   ]
  },
  {
   "cell_type": "code",
   "execution_count": null,
   "metadata": {},
   "outputs": [],
   "source": [
    "# проверка на нормальность через пингвина\n",
    "pg.normality(ab, dv='revenue', group='testgroup', method=\"normaltest\")\n",
    "# normal = False => распределение ненормальное"
   ]
  },
  {
   "cell_type": "code",
   "execution_count": null,
   "metadata": {},
   "outputs": [],
   "source": [
    "# проверка на нормальность у платящих игроков\n",
    "pg.normality(ab.query(\"revenue>0\"), dv='revenue', group='testgroup', method=\"normaltest\")\n",
    "# normal = False => распределение ненормальное"
   ]
  },
  {
   "cell_type": "code",
   "execution_count": null,
   "metadata": {},
   "outputs": [],
   "source": [
    "# проведем тест Левена\n",
    "levene(ab.query(\"testgroup == 'a'\").revenue, ab.query(\"testgroup == 'b'\").revenue)\n",
    "# p>0.05 => отвергаем гипотезу о равенстве дисперсий"
   ]
  },
  {
   "cell_type": "markdown",
   "metadata": {},
   "source": [
    "***Т.к. распределения не нормальны и дисперсии не равны (а это два главных требования для применения t-теста), то проводить t-тест не целесообразно***"
   ]
  },
  {
   "cell_type": "markdown",
   "metadata": {},
   "source": [
    "**3.Для проведения бутстрапа нет жестких требований и можно анализировать любые статистики.\n",
    "У нас имеются выбросы, в таких случаях медиана дает более реалистичную оценку центрального значения, чем среднее.\n",
    "Проверим нулевую гипотезу о равенстве медиан (ARPPU)**"
   ]
  },
  {
   "cell_type": "code",
   "execution_count": null,
   "metadata": {},
   "outputs": [],
   "source": [
    "def get_bootstrap(\n",
    "    data_column_1, # числовые значения первой выборки\n",
    "    data_column_2, # числовые значения второй выборки\n",
    "    boot_it = 1000, # количество бутстрэп-подвыборок\n",
    "    statistic = np.mean, # интересующая нас статистика\n",
    "    bootstrap_conf_level = 0.95 # уровень значимости\n",
    "):\n",
    "    boot_len = max([len(data_column_1), len(data_column_2)])\n",
    "    boot_data = []\n",
    "    for i in tqdm(range(boot_it)): # извлекаем подвыборки\n",
    "        samples_1 = data_column_1.sample(\n",
    "            boot_len, \n",
    "            replace = True # параметр возвращения\n",
    "        ).values\n",
    "        \n",
    "        samples_2 = data_column_2.sample(\n",
    "            boot_len, # чтобы сохранить дисперсию, берем такой же размер выборки\n",
    "            replace = True\n",
    "        ).values\n",
    "        \n",
    "        boot_data.append(statistic(samples_1-samples_2)) \n",
    "    pd_boot_data = pd.DataFrame(boot_data)\n",
    "        \n",
    "    left_quant = (1 - bootstrap_conf_level)/2\n",
    "    right_quant = 1 - (1 - bootstrap_conf_level) / 2\n",
    "    quants = pd_boot_data.quantile([left_quant, right_quant])\n",
    "        \n",
    "    p_1 = norm.cdf(\n",
    "        x = 0, \n",
    "        loc = np.mean(boot_data), \n",
    "        scale = np.std(boot_data)\n",
    "    )\n",
    "    p_2 = norm.cdf(\n",
    "        x = 0, \n",
    "        loc = -np.mean(boot_data), \n",
    "        scale = np.std(boot_data)\n",
    "    )\n",
    "    p_value = min(p_1, p_2) * 2\n",
    "        \n",
    "    # Визуализация\n",
    "    _, _, bars = plt.hist(pd_boot_data[0], bins = 50)\n",
    "    for bar in bars:\n",
    "        if abs(bar.get_x()) <= quants.iloc[0][0] or abs(bar.get_x()) >= quants.iloc[1][0]:\n",
    "            bar.set_facecolor('red')\n",
    "        else: \n",
    "            bar.set_facecolor('grey')\n",
    "            bar.set_edgecolor('black')\n",
    "    \n",
    "    plt.style.use('ggplot')\n",
    "    plt.vlines(quants,ymin=0,ymax=50,linestyle='--')\n",
    "    plt.xlabel('boot_data')\n",
    "    plt.ylabel('frequency')\n",
    "    plt.title(\"Histogram of boot_data\")\n",
    "    plt.show()\n",
    "       \n",
    "    return {\"boot_data\": boot_data, \n",
    "            \"quants\": quants, \n",
    "            \"p_value\": p_value}"
   ]
  },
  {
   "cell_type": "code",
   "execution_count": null,
   "metadata": {},
   "outputs": [],
   "source": [
    "get_bootstrap(\n",
    "    (ab.query(\"(testgroup == 'a') & revenue > 0\")).revenue, # числовые значения первой выборки\n",
    "    (ab.query(\"(testgroup == 'b') & revenue > 0\")).revenue, # числовые значения второй выборки\n",
    "    boot_it = 1000, # количество бутстрэп-подвыборок\n",
    "    statistic = np.median, # интересующая нас статистика\n",
    "    bootstrap_conf_level = 0.95 # уровень значимости\n",
    ")"
   ]
  },
  {
   "cell_type": "markdown",
   "metadata": {},
   "source": [
    "***p_value': 0.0 < 0.05,  а также Нолик не входит в доверительный интервал => медианы значимо отличаются*** (для уточнения: медиана у платящих игроков в контрольной группе = 311, а в тестовой группе = 3022) и это нам говорит о  том, что мы можем отклонить нулевую гипотезу и сделать ***вывод: набор предложений в тестовой группе лучше набора контрольной группы***, т.к. игроки совершали более дорогие покупки.\n",
    "Дополнительно для полного анализа необходимо проанализировать:\n",
    "- не баг ли 123 игрока со средним чеком > 35000р.;\n",
    "- если нет, то данные только с акции или до нее; \n",
    "- товары одной ли категории участвовали в акции;\n",
    "- возможно цель была продать товары со стоимостью >= 35000р."
   ]
  },
  {
   "cell_type": "code",
   "execution_count": null,
   "metadata": {},
   "outputs": [],
   "source": []
  },
  {
   "cell_type": "markdown",
   "metadata": {},
   "source": [
    "## Задание 3\n",
    "### В игре Plants & Gardens каждый месяц проводятся тематические события, ограниченные по времени. В них игроки могут получить уникальные предметы для сада и персонажей, дополнительные монеты или бонусы. Для получения награды требуется пройти ряд уровней за определенное время. С помощью каких метрик можно оценить результаты последнего прошедшего события?\n",
    "\n",
    "**Воронка конверсии пользователей** анализируем как пользователи проходят через определенную последовательность действий в игре, на каких шагах и какая часть из них отваливается (с изменением сложности уровня и тп).\n",
    "\n",
    "**Retention и Rolling Retention**. Необходимо сегментировать на когорты и сравнивать их retention. \n",
    "\n",
    "**DAU** - количество уникальных пользователей, которые зашли в приложение в течение суток.\n",
    "\n",
    "**MAU**  — количество уникальных пользователей, которые зашли в приложение в течение месяца.\n",
    "По отношению средней дневной аудитории к месячной можно понимать частоту использования продукта (**Sticky Factor** - позволяет оценить регулярность посещений и стабильность пользовательской базы).\n",
    "\n",
    "**ASL** – среднее арифметическое длин всех сессий. сравнение средней продолжительности сессии в обычный день и тематический позволит определить как тематическое событие влияет на время, которое пользователь проводит в приложении.\n",
    "\n",
    "\n",
    "### Предположим, в другом событии мы усложнили механику событий так, что при каждой неудачной попытке выполнения уровня игрок будет откатываться на несколько уровней назад. Изменится ли набор метрик оценки результата? Если да, то как?\n",
    "Я бы оставила те же метрики и провела A/B тест, сравнила бы ретеншн до и после усложнения механики."
   ]
  },
  {
   "cell_type": "markdown",
   "metadata": {},
   "source": [
    " "
   ]
  }
 ],
 "metadata": {
  "kernelspec": {
   "display_name": "Python 3",
   "language": "python",
   "name": "python3"
  },
  "language_info": {
   "codemirror_mode": {
    "name": "ipython",
    "version": 3
   },
   "file_extension": ".py",
   "mimetype": "text/x-python",
   "name": "python",
   "nbconvert_exporter": "python",
   "pygments_lexer": "ipython3",
   "version": "3.7.3"
  }
 },
 "nbformat": 4,
 "nbformat_minor": 4
}
